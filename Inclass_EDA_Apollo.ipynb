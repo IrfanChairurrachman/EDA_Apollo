{
 "cells": [
  {
   "cell_type": "markdown",
   "metadata": {},
   "source": [
    "**In-Class: Exploratory Data Analysis**\n",
    "\n",
    "- Part 2 of Data Analytics Specialization\n",
    "- Course Length: 12 hours\n",
    "- Last Updated: December 2024\n",
    "\n",
    "___"
   ]
  },
  {
   "cell_type": "markdown",
   "metadata": {},
   "source": [
    "## Objective Courses\n",
    "\n",
    "The coursebook focuses on:\n",
    "- Why and What: Exploratory Data Analysis\n",
    "- Date Time objects\n",
    "- Categorical data types\n",
    "- Cross Tabulation and Pivot Table\n",
    "- Treating Duplicates and Missing Values "
   ]
  },
  {
   "cell_type": "markdown",
   "metadata": {},
   "source": [
    "# Introduction\n",
    "\n",
    "## Apa itu EDA?\n",
    "Exploratory Data Analysis (EDA) adalah suatu proses untuk melakukan eksplorasi lebih jauh terhadap data, seperti:\n",
    "- melihat struktur data, \n",
    "- melihat sebaran data,\n",
    "- menyesuaikan bentuk tipe data untuk analisis lebih lanjut.\n",
    "\n",
    "Proses ini juga dapat membantu menentukan apakah teknik statistik yang Anda pertimbangkan untuk analisis data sudah sesuai. Awalnya dikembangkan oleh matematikawan Amerika John Tukey pada 1970-an, teknik EDA terus menjadi metode yang banyak digunakan pada proses penemuan data saat ini.\n",
    "\n",
    "## Mengapa EDA penting?\n",
    "Tujuan utama EDA adalah untuk membantu melihat data sebelum membuat asumsi apa pun.\n",
    "- membantu mengidentifikasi kesalahan yang terdapat pada data,\n",
    "- memahami pola dalam data,\n",
    "- mendeteksi outlier atau kejadian anomali,\n",
    "- melihat hubungan antara variabel.\n",
    "\n",
    "Data Scientist dan Data Analyst dapat menggunakan EDA untuk:\n",
    "- memastikan hasil yang mereka dapatkan valid dan berlaku untuk setiap hasil dan tujuan bisnis yang diinginkan,\n",
    "- membantu pemangku kepentingan dengan mengonfirmasi bahwa mereka mengajukan pertanyaan yang tepat\n",
    "- setelah EDA selesai dan insight diambil, fitur-fiturnya kemudian dapat digunakan untuk analisis atau pemodelan data lebih lanjut, termasuk machine learning"
   ]
  },
  {
   "cell_type": "markdown",
   "metadata": {},
   "source": [
    "## Tools EDA\n",
    "\n",
    "Pada course sebelumnya, kita telah mempelajari teknik umum:\n",
    "\n",
    "- `.head()` dan `.tail()` --> ...\n",
    "- `.dtypes` --> ...\n",
    "- `.describe()` --> ...\n",
    "- `.shape` dan `.size` --> ...\n",
    "\n",
    "Selanjutmya, kita akan mempelajari tools baru seperti:\n",
    "\n",
    "- Accessors\n",
    "- Cross-tabulation\n",
    "- Pivot Tables\n",
    "- Missing Values\n",
    "- Duplicates\n",
    "\n",
    "___"
   ]
  },
  {
   "cell_type": "markdown",
   "metadata": {},
   "source": [
    "# Problem Statement\n",
    "\n",
    "🔻 Anda merupakan seorang data analyst yang diberi sebuah task untuk menganalisis data transaksi penjualan barang rumah tangga berbentuk tabular berformat `.csv`. Anda diminta untuk melakukan eksplorasi terhadap data tersebut hingga mendapatkan insight-insight atau gambaran bisnis yang dapat Anda sampaikan kepada rekan kerja Anda."
   ]
  },
  {
   "cell_type": "markdown",
   "metadata": {},
   "source": [
    "# Data Preparation"
   ]
  },
  {
   "cell_type": "code",
   "execution_count": null,
   "metadata": {},
   "outputs": [],
   "source": [
    "import pandas as pd\n",
    "\n",
    "# mengatur tanda koma sebagai pemisah ribuan dan penulisan decimal 2 angka\n",
    "pd.options.display.float_format = '{:,.2f}'.format \n",
    "\n",
    "# Menghilangkan FutureWarning yang disebabkan oleh update di masa depan\n",
    "import warnings\n",
    "warnings.simplefilter(\"ignore\", category=FutureWarning)"
   ]
  },
  {
   "cell_type": "markdown",
   "metadata": {},
   "source": [
    "🔻 Data yang anda butuhkan terletak di folder `data_input` dengan nama `household.csv`. Dengan bantuan library `pandas` bukalah data tersebut."
   ]
  },
  {
   "cell_type": "code",
   "execution_count": null,
   "metadata": {},
   "outputs": [],
   "source": [
    "# code here\n",
    "household = ..."
   ]
  },
  {
   "cell_type": "markdown",
   "metadata": {},
   "source": [
    "### Household Dataset\n",
    "Dataset ini merupakan data transaksi pembelian barang kebutuhan rumah tangga. Informasi kolom:\n",
    "- `receipt_id`: Unique buyer ID\n",
    "- `receipts_item_id` : Unique transaction ID\n",
    "- `purchase_time` : Waktu melakukan pembelian\n",
    "- `category` : Kategori item\n",
    "- `sub_category` : Sub-kategori item\n",
    "- `format` : Jenis pasar tempat membeli barang (supermarket, minimarket, hypermarket)\n",
    "- `unit_price` : Harga per unit\n",
    "- `diskon` : Diskon\n",
    "- `quantity` : Jumlah barang yang dibeli\n",
    "- `yearmonth` : Informasi tahun dan bulan"
   ]
  },
  {
   "cell_type": "markdown",
   "metadata": {},
   "source": [
    "🔻 Lakukan investigasi awal untuk melihat struktur data terhadap object DataFrame anda dengan menggunakan method `.info()`"
   ]
  },
  {
   "cell_type": "code",
   "execution_count": null,
   "metadata": {},
   "outputs": [],
   "source": [
    "# code here\n"
   ]
  },
  {
   "cell_type": "markdown",
   "metadata": {},
   "source": [
    "💡 **Tips**: Dengan menggunakan method `.info()`, kita dapat memeriksa **informasi** lengkap dari DataFrame kita:\n",
    "\n",
    "- Dimensi data: jumlah baris dan kolom (`.shape`)\n",
    "- Nama kolom dan jumlah nilai bukan kosong/null/NA (`.columns`)\n",
    "- Tipe data setiap kolom (`.dtypes`)\n",
    "- Penggunaan memori"
   ]
  },
  {
   "cell_type": "markdown",
   "metadata": {},
   "source": [
    "❓ Berdasarkan informasi tipe data, apakah terdapat kolom dengan tipe data yang kurang tepat?"
   ]
  },
  {
   "cell_type": "markdown",
   "metadata": {},
   "source": [
    "# Data Pre-processing"
   ]
  },
  {
   "cell_type": "markdown",
   "metadata": {},
   "source": [
    "## Working with Datetime\n",
    "\n",
    "🔻 Tahap selanjutnya anda perlu menyesuaikan tipe data untuk dapat melakukan proses analisis lanjutan, pada tahapan ini kita akan berfokus ke data bertipe datetime."
   ]
  },
  {
   "cell_type": "code",
   "execution_count": null,
   "metadata": {},
   "outputs": [],
   "source": [
    "household.head()"
   ]
  },
  {
   "cell_type": "markdown",
   "metadata": {},
   "source": [
    "Hasil pengecekan tipe data menunjukkan bahwa terdapat beberapa variable yang memiliki tipe data tidak sesuai dengan yang seharusnya. \n",
    "\n",
    "**❓Kolom manakah yang seharusnya memiliki format tipe data date time?** ___\n"
   ]
  },
  {
   "cell_type": "markdown",
   "metadata": {},
   "source": [
    "### Convert to Datetime"
   ]
  },
  {
   "cell_type": "markdown",
   "metadata": {},
   "source": [
    "Terdapat tiga cara untuk mengubah menjadi tipe data `datetime64[ns]`:\n",
    "\n",
    "- Method `.astype()`\n",
    "- Parameter `parse_dates` pada `pd.read_csv()`\n",
    "- Fungsi `pd.to_datetime()`\n",
    "\n",
    "Berikut ini contoh cara penggunaannya:"
   ]
  },
  {
   "cell_type": "markdown",
   "metadata": {},
   "source": [
    "#### 1️⃣ Method `.astype()`"
   ]
  },
  {
   "cell_type": "markdown",
   "metadata": {},
   "source": [
    "Ubah menggunakan `.astype()` dengan nilai `'datetime64[ns]'`"
   ]
  },
  {
   "cell_type": "code",
   "execution_count": null,
   "metadata": {},
   "outputs": [],
   "source": [
    "# code here\n"
   ]
  },
  {
   "cell_type": "markdown",
   "metadata": {},
   "source": [
    "#### 2️⃣ Parameter `parse_dates`\n",
    "\n",
    "Digunakan ketika ***read*** data, dengan asumsi kita sudah tahu kolom mana yang seharusnya `datetime64[ns]` ketika membaca data."
   ]
  },
  {
   "cell_type": "code",
   "execution_count": null,
   "metadata": {},
   "outputs": [],
   "source": [
    "# code here\n",
    "df = pd.read_csv(\"data_input/household.csv\", ... )\n",
    "df.info()"
   ]
  },
  {
   "cell_type": "markdown",
   "metadata": {},
   "source": [
    "#### 3️⃣ Method `pd.to_datetime()`"
   ]
  },
  {
   "cell_type": "markdown",
   "metadata": {},
   "source": [
    "Ubah kolom `purchase_time` menggunakan fungsi `pd.to_datetime()`"
   ]
  },
  {
   "cell_type": "code",
   "execution_count": null,
   "metadata": {},
   "outputs": [],
   "source": [
    "# code here\n"
   ]
  },
  {
   "cell_type": "markdown",
   "metadata": {},
   "source": [
    "💬 **Diskusi**\n",
    "\n",
    "**Q:** Lalu apa yang membedakan ketiga cara tersebut?\n",
    "\n",
    "Tidak seperti menggunakan `astype()`, dengan `pd.to_datetime()` kita diperbolehkan untuk menentukan **parameter** untuk konversi datetime. Dengan demikian, berikan lebih banyak **fleksibilitas**."
   ]
  },
  {
   "cell_type": "markdown",
   "metadata": {},
   "source": [
    "Misalkan kita memiliki kolom yang menyimpan informasi waktu harian di bulan Juni menggunakan format **dd-mm-yyyy** yang merupakan cara normal orang Indonesia menulis tanggal. Mari kita lihat apa yang akan terjadi ketika kita mengonversi tipe data `sales_date` menjadi `datetime64[ns]`:"
   ]
  },
  {
   "cell_type": "code",
   "execution_count": null,
   "metadata": {},
   "outputs": [],
   "source": [
    "sales_date = pd.Series(['01-06-2019', '02-06-2019', '03-06-2019', '04-06-2019', '05-06-2019']) # Tanggal 1-5 Juni 2019\n",
    "sales_date.astype('datetime64[ns]')"
   ]
  },
  {
   "cell_type": "markdown",
   "metadata": {},
   "source": [
    "Mari kita coba bandingkan dengan ketika kita memiliki data pada waktu sebelumnya. Silakan jalankan kode di bawah ini dan coba perhatikan hasil yang muncul."
   ]
  },
  {
   "cell_type": "code",
   "execution_count": null,
   "metadata": {},
   "outputs": [],
   "source": [
    "sales_date2 = pd.Series(['30-05-2019', '31-05-2019', '01-06-2019', '02-06-2019', '03-06-2019']) \n",
    "sales_date2.astype('datetime64[ns]')"
   ]
  },
  {
   "cell_type": "markdown",
   "metadata": {},
   "source": [
    "⚠️ **Warning**: untuk tanggal dengan beberapa representasi, `pandas` secara default akan menyimpulkannya **bulan** sebagai urutan pertama."
   ]
  },
  {
   "cell_type": "markdown",
   "metadata": {},
   "source": [
    "#### Implementasi `pd.to_datetime`\n",
    "\n",
    "Dikarenakan keterbatasan dari `astype()` yang harus memiliki format awal yang sesuai dengan format hasil akhir, maka dari itu fungsi `pd.to_datetime()` bisa menjadi jawabannya karena fungsi tersebut dibekali dengan beberapa parameter pendukung:"
   ]
  },
  {
   "cell_type": "markdown",
   "metadata": {},
   "source": [
    "💡 **Cara 1:** Parameter `dayfirst=True`, jika data memiliki format hari di depan pada suatu data tanggal"
   ]
  },
  {
   "cell_type": "code",
   "execution_count": null,
   "metadata": {},
   "outputs": [],
   "source": [
    "# code here\n"
   ]
  },
  {
   "cell_type": "markdown",
   "metadata": {},
   "source": [
    "💡 **Cara 2:** Parameter `format`, diisikan dengan format **strftime** yang merupakan representasi tanggal dalam bentuk teks"
   ]
  },
  {
   "cell_type": "code",
   "execution_count": null,
   "metadata": {},
   "outputs": [],
   "source": [
    "# code here\n"
   ]
  },
  {
   "cell_type": "markdown",
   "metadata": {},
   "source": [
    "**🌐 Referensi** : https://strftime.org/"
   ]
  },
  {
   "cell_type": "markdown",
   "metadata": {},
   "source": [
    "Bagaimana jika kita bertemu data dengan format yang berantakan seperti kasus berikut?"
   ]
  },
  {
   "cell_type": "code",
   "execution_count": null,
   "metadata": {},
   "outputs": [],
   "source": [
    "sales_date3 = pd.Series(['30-May-2019', '31-05-2019', '01/06/2019', '02-06-2019', '03-June-2019']) \n",
    "sales_date3"
   ]
  },
  {
   "cell_type": "markdown",
   "metadata": {},
   "source": [
    "💡 **Tips:** \n",
    "Kita dapat menggunakan sebuah nilai pada parameter `format` yaitu `\"mixed\"`."
   ]
  },
  {
   "cell_type": "code",
   "execution_count": null,
   "metadata": {},
   "outputs": [],
   "source": [
    "# code here\n"
   ]
  },
  {
   "cell_type": "markdown",
   "metadata": {},
   "source": [
    "**✏️ Notes:**\n",
    "\n",
    "Kapan waktu yang tepat untuk menggunakan 3 cara tersebut?\n",
    "\n",
    "- `.astype('datetime64[ns]')`: Jika data memiliki format **bulan-tanggal-tahun (mdy)**\n",
    "- `parse_date=['kolom']`: Jika data memiliki format **bulan-tanggal-tahun (mdy)** dan sudah diketahui nama kolom dengan tipe datetime ketika membaca data\n",
    "- `pd.to_datetime`: Jika formatnya tidak dalam **bulan-tanggal-tahun (mdy)**\n",
    "\n",
    "\n",
    "Lalu, apa yang dapat dilakukan pada data datetime?\n",
    "___"
   ]
  },
  {
   "cell_type": "markdown",
   "metadata": {},
   "source": [
    "🔻 Namun pertama-tama mari kita ubah kolom `purchase_time` menjadi `datetime64[ns]`"
   ]
  },
  {
   "cell_type": "code",
   "execution_count": null,
   "metadata": {},
   "outputs": [],
   "source": [
    "# code here\n"
   ]
  },
  {
   "cell_type": "markdown",
   "metadata": {},
   "source": [
    "### Datetime Extraction\n",
    "\n",
    "Setelah melakukan konversi tipe data menjadi bentuk `datetime`, kita dapat melakukan partisi untuk menggali informasi yang lebih spesifik seperti tahun, bulan, hari, dan jam.<br>\n",
    "\n",
    "**Date component (numeric)**\n",
    "- `.dt.year` -> partisi tahun\n",
    "- `.dt.month` -> partisi bulan (angka)\n",
    "- `.dt.day` -> partisi day/tanggal (dalam angka)\n",
    "- `.dt.dayofweek` -> Monday=0, Sunday=6\n",
    "\n",
    "**Date component (string)**\n",
    "- `.dt.month_name()`-> partisi bulan (nama)\n",
    "- `.dt.day_name()`-> partisi hari (nama)\n",
    "\n",
    "**Time component**\n",
    "- `.dt.hour` -> partisi jam\n",
    "- `.dt.minute` -> partisi menit\n",
    "- `.dt.second` -> partisi detik\n",
    "\n",
    "[Klik di sini untuk Dokumentasinya](https://pandas.pydata.org/pandas-docs/stable/reference/series.html#datetimelike-properties)"
   ]
  },
  {
   "cell_type": "markdown",
   "metadata": {},
   "source": [
    "**📆 Attribut-attribut pada Datetime**\n",
    "\n",
    "Untuk mengekstrak komponen datetime dalam nilai numerik, kita dapat menggunakan **atribut**"
   ]
  },
  {
   "cell_type": "markdown",
   "metadata": {},
   "source": [
    "**A. Partisi `dt.year`**"
   ]
  },
  {
   "cell_type": "code",
   "execution_count": null,
   "metadata": {},
   "outputs": [],
   "source": [
    "household['purchase_time'].dt.year"
   ]
  },
  {
   "cell_type": "markdown",
   "metadata": {},
   "source": [
    "**B. Partisi `dt.month`**"
   ]
  },
  {
   "cell_type": "code",
   "execution_count": null,
   "metadata": {},
   "outputs": [],
   "source": [
    "household['purchase_time'].dt.month"
   ]
  },
  {
   "cell_type": "markdown",
   "metadata": {},
   "source": [
    "**C. Partisi `dt.day`**"
   ]
  },
  {
   "cell_type": "code",
   "execution_count": null,
   "metadata": {},
   "outputs": [],
   "source": [
    "household['purchase_time'].dt.day"
   ]
  },
  {
   "cell_type": "markdown",
   "metadata": {},
   "source": [
    "**D. Partisi `dt.dayofweek`**"
   ]
  },
  {
   "cell_type": "code",
   "execution_count": null,
   "metadata": {},
   "outputs": [],
   "source": [
    "household['purchase_time'].dt.dayofweek"
   ]
  },
  {
   "cell_type": "markdown",
   "metadata": {},
   "source": [
    "**E. Partisi `dt.hour`**"
   ]
  },
  {
   "cell_type": "code",
   "execution_count": null,
   "metadata": {},
   "outputs": [],
   "source": [
    "household['purchase_time'].dt.hour"
   ]
  },
  {
   "cell_type": "markdown",
   "metadata": {},
   "source": [
    "**📆 Method-method pada Datetime**\n",
    "\n",
    "Untuk mengekstrak nama (teks) dari komponen datetime, kita dapat menggunakan **method** (dengan tanda kurung)"
   ]
  },
  {
   "cell_type": "markdown",
   "metadata": {},
   "source": [
    "**A. Partisi dt.day_name()**"
   ]
  },
  {
   "cell_type": "code",
   "execution_count": null,
   "metadata": {},
   "outputs": [],
   "source": [
    "household['purchase_time'].dt.day_name()"
   ]
  },
  {
   "cell_type": "markdown",
   "metadata": {},
   "source": [
    "**B. Partisi dt.month_name()**"
   ]
  },
  {
   "cell_type": "code",
   "execution_count": null,
   "metadata": {},
   "outputs": [],
   "source": [
    "household['purchase_time'].dt.month_name()"
   ]
  },
  {
   "cell_type": "markdown",
   "metadata": {},
   "source": [
    "___"
   ]
  },
  {
   "cell_type": "markdown",
   "metadata": {},
   "source": [
    "### Object Datetime Transformation\n",
    "\n",
    "Selain digunakan untuk melakukan partisi, kita juga dapat melakukan transformasi object `datetime` kedalam format periode menggunakan syntax `to_period()`.\n",
    "- `.dt.to_period('D')` -> mengubah ke format tanggal lengkap (dd-mm-YYYY)\n",
    "- `.dt.to_period('W')` -> mengubah ke format senin-minggu\n",
    "- `.dt.to_period('M')` -> mengubah ke format year-month\n",
    "- `.dt.to_period('Q')` -> mengubah ke format year-quartal"
   ]
  },
  {
   "cell_type": "code",
   "execution_count": null,
   "metadata": {},
   "outputs": [],
   "source": [
    "household['purchase_time'].dt.to_period('D')"
   ]
  },
  {
   "cell_type": "code",
   "execution_count": null,
   "metadata": {},
   "outputs": [],
   "source": [
    "household['purchase_time'].dt.to_period('W')"
   ]
  },
  {
   "cell_type": "code",
   "execution_count": null,
   "metadata": {},
   "outputs": [],
   "source": [
    "household['purchase_time'].dt.to_period('M')"
   ]
  },
  {
   "cell_type": "code",
   "execution_count": null,
   "metadata": {},
   "outputs": [],
   "source": [
    "household['purchase_time'].dt.to_period('Q')"
   ]
  },
  {
   "cell_type": "markdown",
   "metadata": {},
   "source": [
    "<!-- **Timedelta**\n",
    "`pandas` memiliki sebuah method bermana `timedelta` yang dapat digunakan untuk menghitung selisih hari, jam, bahkan detik. Untuk dokumentasi lebih lengkapnya, silahkan mengunjungi link [berikut ini](https://docs.python.org/3/library/datetime.html#datetime.timedelta) dan [tutorial ini](https://www.tutorialspoint.com/python_pandas/python_pandas_timedelta.htm) -->\n",
    "___"
   ]
  },
  {
   "cell_type": "markdown",
   "metadata": {},
   "source": [
    "## Working with Categories\n",
    "\n",
    "Setelah memproses data dengan tipe data datetime, kita akan belajar tipe data berikutnya yaitu category."
   ]
  },
  {
   "cell_type": "markdown",
   "metadata": {},
   "source": [
    "💡 **Tips**:\n",
    "\n",
    "Karakteristik tipe data `category` :\n",
    "\n",
    "- Dapat dikelompokkan menjadi beberapa kategori\n",
    "- Memiliki nilai yang berulang"
   ]
  },
  {
   "cell_type": "markdown",
   "metadata": {},
   "source": [
    "Kita bisa menggunakan method berikut untuk mengidentifikasi kolom mana yang cocok untuk disimpan ke tipe data `category`\n",
    "\n",
    "- `.unique()` : Melihat nilai-nilai unik pada sebuah **Series** (kolom)\n",
    "- `.nunique()` : Melihat nilai-nilai unik pada sebuah **Series** atau **DataFrame**\n",
    "\n",
    "✏️ **Note** :<br>\n",
    "Ketika kita belum mengetahui variable mana saja yang dapat diubah ke dalam tipe data category, kita dapat melakukan pengecekan terlebih dahulu menggunakan method **`.nunique()`**. Variable yang memiliki nilai berulang, dan cenderung memiliki jumlah yang berbeda secara signifikan dengan jumlah baris data yang kita miliki, dapat digolongkan sebagai tipe data category."
   ]
  },
  {
   "cell_type": "code",
   "execution_count": null,
   "metadata": {},
   "outputs": [],
   "source": [
    "# code here\n"
   ]
  },
  {
   "cell_type": "markdown",
   "metadata": {},
   "source": [
    "🔻 Manakah yang seharusnya memiliki tipe data category? _____"
   ]
  },
  {
   "cell_type": "markdown",
   "metadata": {},
   "source": [
    "❗Ubah tipe data kolom-kolom tersebut menjadi category!"
   ]
  },
  {
   "cell_type": "code",
   "execution_count": null,
   "metadata": {},
   "outputs": [],
   "source": [
    "# simpan nama-nama kolom yang ingin diubah menjadi category\n",
    "cat_col = ..."
   ]
  },
  {
   "cell_type": "code",
   "execution_count": null,
   "metadata": {},
   "outputs": [],
   "source": [
    "# ubah kolom-kolom cat_col menjadi tipe data category\n"
   ]
  },
  {
   "cell_type": "markdown",
   "metadata": {},
   "source": [
    "### Advantages of Categories\n",
    "\n",
    "Terdapat 2 keuntungan ketika kita mengubah tipe data menjadi `category`:\n",
    "\n",
    "**1️⃣ Pertama: Memory Efficient <br>**\n",
    "\n",
    "Pengubahan data object menjadi category akan menghemat memori dan menambah kecepatan komputasional. Kita dapat membandingkan dua Data Frame **sebelum dan sesudah** kolom dikonversi ke tipe data `category`:"
   ]
  },
  {
   "cell_type": "code",
   "execution_count": null,
   "metadata": {},
   "outputs": [],
   "source": [
    "# check memory household (object)\n",
    "household[cat_col].astype('object').info()"
   ]
  },
  {
   "cell_type": "code",
   "execution_count": null,
   "metadata": {},
   "outputs": [],
   "source": [
    "# check memory household_cat (category)\n",
    "household[cat_col].info()"
   ]
  },
  {
   "cell_type": "markdown",
   "metadata": {},
   "source": [
    "**2️⃣ Kedua: Accessor Category `.cat`**\n",
    "\n",
    "Mirip seperti tipe data `datetime64[ns]` yang memiliki fungsi khusus melalui accessor `.dt`, tipe data `category` juga memiliki memiliki fungsi khusus melalui accessor `.cat`. Berikut contoh penggunaannya pada data dummy."
   ]
  },
  {
   "cell_type": "code",
   "execution_count": null,
   "metadata": {},
   "outputs": [],
   "source": [
    "# nama kota\n",
    "df = pd.DataFrame({\"kota\":['JKT', 'BDG', 'JKT', 'SBY', 'BDG', 'JKT', 'SBY', 'SBY']})\n",
    "df['kota'] = df['kota'].astype(\"category\")\n",
    "df['kota']"
   ]
  },
  {
   "cell_type": "markdown",
   "metadata": {},
   "source": [
    "Agar mendapatkan informasi yang lebih mudah dibaca secara naratif, nilai dalam data dummy tersebut dapat kita ubah menggunakan `rename_categories()` yang terdapat pada accessor `.cat`."
   ]
  },
  {
   "cell_type": "code",
   "execution_count": null,
   "metadata": {},
   "outputs": [],
   "source": [
    "# Mengubah 0-6 menjadi senin-minggu\n",
    "df['kota'].cat.rename_categories(['Bandung', 'Jakarta', 'Surabaya'])"
   ]
  },
  {
   "cell_type": "markdown",
   "metadata": {},
   "source": [
    "✏️ **Note** \n",
    "\n",
    "Anda dapat menjelajahi lebih banyak fungsi dengan merujuk ke [dokumentasi accessor .cat](https://pandas.pydata.org/pandas-docs/stable/reference/series.html#categorical-accessor) untuk daftar lengkapnya.\n",
    "\n",
    "___"
   ]
  },
  {
   "cell_type": "markdown",
   "metadata": {},
   "source": [
    "#### Dive Deeper : Feature Engineering of Datetime and Category data types\n",
    "_Est. Time required: 15 minutes_\n",
    "\n",
    "1. Dapatkan nama hari dari kolom `purchase_time`. Simpan hasil partisi nama hari kedalam kolom baru dengan nama `day`\n",
    "2. Coba buat duplikasi kolom `yearmonth` dari kolom `purchase_time`. Simpan hasil duplikasi ke dalam kolom baru dengan nama `yearmonth_new`\n",
    "3. Ubah data-data pada kolom `sub_category` menjadi namanya dalam Bahasa Indonesia (Beras, Gula, Detergen)\n",
    "4. Tampilkan 5 data pertama untuk memastikan bahwa langkah yang dilakukan sudah tepat"
   ]
  },
  {
   "cell_type": "code",
   "execution_count": null,
   "metadata": {},
   "outputs": [],
   "source": [
    "# code here - no 1\n"
   ]
  },
  {
   "cell_type": "code",
   "execution_count": null,
   "metadata": {},
   "outputs": [],
   "source": [
    "# code here - no 2\n"
   ]
  },
  {
   "cell_type": "code",
   "execution_count": null,
   "metadata": {},
   "outputs": [],
   "source": [
    "# code here - no 3\n"
   ]
  },
  {
   "cell_type": "code",
   "execution_count": null,
   "metadata": {},
   "outputs": [],
   "source": [
    "# code here - no 4\n"
   ]
  },
  {
   "cell_type": "markdown",
   "metadata": {},
   "source": [
    "**Extra Challenge**<br>\n",
    "Misalkan perkiraan waktu pengiriman akan memakan waktu sekitar 2 hari setelah produk dibeli. Buat kolom baru dengan nama `shipdate_est` yang menyimpan perkiraan waktu pengiriman setiap transaksi!\n",
    "(**Hint**: Gunakan [`pd.Timedelta`](https://pandas.pydata.org/docs/reference/api/pandas.Timedelta.html)) "
   ]
  },
  {
   "cell_type": "code",
   "execution_count": null,
   "metadata": {},
   "outputs": [],
   "source": [
    "# code here - extra challenge\n"
   ]
  },
  {
   "cell_type": "markdown",
   "metadata": {},
   "source": [
    "___"
   ]
  },
  {
   "cell_type": "markdown",
   "metadata": {},
   "source": [
    "# Analisis Data\n",
    "\n",
    "## Contingency Tables/Frequency Tables\n",
    "\n",
    "Contingency tables merupakan tabel yang berisi nilai frekuensi/kemunculan suatu kategori data.<br>\n",
    "\n",
    "### Method `value_counts()`\n",
    "\n",
    "**Kegunaan**: Untuk menghitung frekuensi pada setiap category dalam 1 kolom."
   ]
  },
  {
   "cell_type": "markdown",
   "metadata": {},
   "source": [
    "🔻 Mari kita tinjau transaksi disetiap format market"
   ]
  },
  {
   "cell_type": "code",
   "execution_count": null,
   "metadata": {},
   "outputs": [],
   "source": [
    "# code here\n"
   ]
  },
  {
   "cell_type": "markdown",
   "metadata": {},
   "source": [
    "**📈 Insight:** "
   ]
  },
  {
   "cell_type": "markdown",
   "metadata": {},
   "source": [
    "📝 Parameter:\n",
    "\n",
    "- `sort`: Jika `False`, mencegah nilai pengurutan apa pun, **mengurutkan berdasarkan alfabet** sebagai gantinya\n",
    "- `ascending`: Jika `True`, mengurutkan nilai dari yang paling kecil ke besar"
   ]
  },
  {
   "cell_type": "code",
   "execution_count": null,
   "metadata": {},
   "outputs": [],
   "source": [
    "# code here\n"
   ]
  },
  {
   "cell_type": "markdown",
   "metadata": {},
   "source": [
    "❓ LATIHAN!<br>\n",
    "Sekarang kita ingin tahu hari apa yang banyak dilakukan transaksi"
   ]
  },
  {
   "cell_type": "code",
   "execution_count": null,
   "metadata": {},
   "outputs": [],
   "source": [
    "# code here\n"
   ]
  },
  {
   "cell_type": "markdown",
   "metadata": {},
   "source": [
    "📈 **Insight:** "
   ]
  },
  {
   "cell_type": "markdown",
   "metadata": {},
   "source": [
    "### Cross Tabulation\n",
    "\n",
    "Selain menggunakan method `value_counts()`, kita juga dapat menggunakan fungsi `crosstab()` yang telah disediakan oleh `pandas` untuk menghitung frekuensi pada data. Syntax yang digunakan untuk menggunakan fungsi `crosstab()` adalah :\n",
    "\n",
    "```python\n",
    "pd.crosstab(index=df['kolom_cat1'],\n",
    "            columns=df['kolom_cat2'])\n",
    "```\n",
    "\n",
    "dimana :\n",
    "- `index` : kolom yang akan dijadikan baris (index) pada crosstab\n",
    "- `columns` : nama kolom yang akan dijadikan kolom pada crosstab"
   ]
  },
  {
   "cell_type": "markdown",
   "metadata": {},
   "source": [
    "🔻 Masih meninjau permasalahan yang sama, mari kita lihat transaksi disetiap format market menggunakan fungsi `crosstab`"
   ]
  },
  {
   "cell_type": "code",
   "execution_count": null,
   "metadata": {},
   "outputs": [],
   "source": [
    "# code here\n"
   ]
  },
  {
   "cell_type": "markdown",
   "metadata": {},
   "source": [
    "✏️ **Note**\n",
    "\n",
    "Untuk mengurutkan nilai pada sebuah kolom, kita dapat menggunakan method `sort_values()`\n",
    "\n",
    "Parameter `sort_values()`:\n",
    "- `by`: nama kolom\n",
    "- `ascending=True`: mengurutkan nilai dari terkecil ke terbesar\n",
    "___"
   ]
  },
  {
   "cell_type": "markdown",
   "metadata": {},
   "source": [
    "❓ Pada format market mana transaksi paling banyak terjadi dan berapa frekuensinya"
   ]
  },
  {
   "cell_type": "code",
   "execution_count": null,
   "metadata": {},
   "outputs": [],
   "source": [
    "# code here\n"
   ]
  },
  {
   "cell_type": "markdown",
   "metadata": {},
   "source": [
    "❓ LATIHAN! <br>\n",
    "Tinjau frekuensi transaksi berdasarkan barang (`sub_category`) yang dibeli dan coba gali insight apa yang dapat kita ambil"
   ]
  },
  {
   "cell_type": "code",
   "execution_count": null,
   "metadata": {},
   "outputs": [],
   "source": [
    "# code here\n",
    "pd.crosstab(index = ... ,\n",
    "            columns = ... )"
   ]
  },
  {
   "cell_type": "markdown",
   "metadata": {},
   "source": [
    "📈 **Insight:** \n"
   ]
  },
  {
   "cell_type": "markdown",
   "metadata": {},
   "source": [
    "🔻 Seperti yang kita tahu bahwa `___` paling banyak dibeli. Selanjutnya kita ingin tahu ada di format market mana `___` paling banyak dibeli:"
   ]
  },
  {
   "cell_type": "code",
   "execution_count": null,
   "metadata": {},
   "outputs": [],
   "source": [
    "# code here\n",
    "pd.crosstab(index = ... ,\n",
    "            columns = ... )"
   ]
  },
  {
   "cell_type": "markdown",
   "metadata": {},
   "source": [
    "Keuntungan dari penggunaan crosstab adalah kita dapat melakukan pengaturan dengan beberapa parameter tambahan, yaitu:\n",
    "\n",
    "- `margins` : Menambahkan baris atau kolom margins yang menampung nilai subtotal\n",
    "- `normalize` : Membagi keseluruhan nilai hasil crosstab dengan jumlah nilai."
   ]
  },
  {
   "cell_type": "markdown",
   "metadata": {},
   "source": [
    "#### Margins\n",
    "\n",
    "🔻 Hitung frekuensi transaksi untuk penjualan barang (`sub_category`) di setiap segmen pasar (format) dan gunakan parameter `margins = True`"
   ]
  },
  {
   "cell_type": "code",
   "execution_count": null,
   "metadata": {},
   "outputs": [],
   "source": [
    "# code here\n"
   ]
  },
  {
   "cell_type": "markdown",
   "metadata": {},
   "source": [
    "❓ LATIHAN!\n",
    "\n",
    "Misalnya kita ingin mencari tahu Minimarket paling ramai di hari apa?"
   ]
  },
  {
   "cell_type": "code",
   "execution_count": null,
   "metadata": {},
   "outputs": [],
   "source": [
    "# code here\n"
   ]
  },
  {
   "cell_type": "markdown",
   "metadata": {},
   "source": [
    "___\n",
    "\n",
    "#### Normalize\n",
    "\n",
    "Jika parameter normalize bernilai :\n",
    "- `True` : melakukan normalisasi untuk keseluruhan nilai\n",
    "- `'index'` : melakukan normalisasi pada setiap baris\n",
    "- `'columns'` : melakukan normalisasi pada setiap kolom"
   ]
  },
  {
   "cell_type": "markdown",
   "metadata": {},
   "source": [
    "**Normalize by All**"
   ]
  },
  {
   "cell_type": "code",
   "execution_count": null,
   "metadata": {},
   "outputs": [],
   "source": [
    "# code here\n",
    "pd.crosstab(\n",
    "    index=household['format'],\n",
    "    columns=household['sub_category'],\n",
    "    normalize=...\n",
    ")"
   ]
  },
  {
   "cell_type": "markdown",
   "metadata": {},
   "source": [
    "**Normalize by Index**"
   ]
  },
  {
   "cell_type": "code",
   "execution_count": null,
   "metadata": {},
   "outputs": [],
   "source": [
    "# code here\n",
    "pd.crosstab(\n",
    "    index=household['format'],\n",
    "    columns=household['sub_category'],\n",
    "    normalize=...\n",
    ")"
   ]
  },
  {
   "cell_type": "markdown",
   "metadata": {},
   "source": [
    "**Normalize by Columns**"
   ]
  },
  {
   "cell_type": "code",
   "execution_count": null,
   "metadata": {},
   "outputs": [],
   "source": [
    "# code here\n",
    "pd.crosstab(\n",
    "    index=household['format'],\n",
    "    columns=household['sub_category'],\n",
    "    normalize=...\n",
    ")"
   ]
  },
  {
   "cell_type": "markdown",
   "metadata": {},
   "source": [
    "___"
   ]
  },
  {
   "cell_type": "markdown",
   "metadata": {},
   "source": [
    "## Dive Deeper: Contingency Table"
   ]
  },
  {
   "cell_type": "markdown",
   "metadata": {},
   "source": [
    "1. Dengan menggunakan `value_counts`, tampilkan frekuensi transaksi disetiap format pasar yang terjadi pada bulan **February 2018**!\n",
    "2. Dengan menggunakan `pd.crosstab`, tampilkan bulan (`yearmonth`) dimana **hypermarket** memiliki frekuensi transaksi tertinggi?"
   ]
  },
  {
   "cell_type": "markdown",
   "metadata": {},
   "source": [
    "<details>\n",
    "  <summary>👆 (click here for hint) 👆</summary>\n",
    "\n",
    "Silahkan lakukan conditional subsetting `2018-02` pada kolom `yearmonth`, kemudian simpan pada variabel `feb_18`\n",
    "\n",
    "```python\n",
    "feb_18 = household[ ... == ... ]\n",
    "feb_18[ ... ].value_counts()\n",
    "```\n",
    "</details>"
   ]
  },
  {
   "cell_type": "code",
   "execution_count": null,
   "metadata": {},
   "outputs": [],
   "source": [
    "# 1.\n"
   ]
  },
  {
   "cell_type": "code",
   "execution_count": null,
   "metadata": {},
   "outputs": [],
   "source": [
    "# 2.\n"
   ]
  },
  {
   "cell_type": "markdown",
   "metadata": {},
   "source": [
    "3. Menjelang Hari Raya Idul Fitri, pada bulan July 2018, minimarket mengalami pelonjakan jumlah pengunjung. Berapa banyakkah jumlah transaksi yang terjadi? "
   ]
  },
  {
   "cell_type": "code",
   "execution_count": null,
   "metadata": {},
   "outputs": [],
   "source": [
    "# 3.\n"
   ]
  },
  {
   "cell_type": "markdown",
   "metadata": {},
   "source": [
    "**Optional: Bonus Challenge**\n",
    "\n",
    "Dalam rangka menaikkan jumlah transaksi di `minimarket`, perusahaan berencana untuk mengadakan _flash-sale_ pada jam-jam dengan transaksi rendah. Pada jam berapakan _flash-sale_ tersebut sebaiknya diadakan?"
   ]
  },
  {
   "cell_type": "code",
   "execution_count": null,
   "metadata": {},
   "outputs": [],
   "source": [
    "# Bonus Challenge\n"
   ]
  },
  {
   "cell_type": "markdown",
   "metadata": {},
   "source": [
    "___\n",
    "\n",
    "## Aggregation Tables\n",
    "\n",
    "Selain menghitung frekuensi kemunculan data, kita juga dapat menggunakan crosstab untuk melakukan agregasi. Pada parameter crosstab, Anda dapat menambahkan parameter `values` sebagai nilai yang diagregasikan dan `aggfunc` sebagai nilai statistika yang dipakai untuk melakukan agregasi.\n",
    "\n",
    "### `pd.crosstab`\n",
    "\n",
    "```python\n",
    "pd.crosstab(index=df['kolom_cat1'],\n",
    "            columns=df['kolom_cat2'],\n",
    "            values=df['kolom_num'],\n",
    "            aggfunc='agg_function')\n",
    "```"
   ]
  },
  {
   "cell_type": "markdown",
   "metadata": {},
   "source": [
    "🔻 Coba sekarang kita tinjau harga di setiap jenis barang dari nilai rata-ratanya"
   ]
  },
  {
   "cell_type": "code",
   "execution_count": null,
   "metadata": {},
   "outputs": [],
   "source": [
    "# code here\n"
   ]
  },
  {
   "cell_type": "markdown",
   "metadata": {},
   "source": [
    "📈 **Insight:**\n",
    "\n",
    "- "
   ]
  },
  {
   "cell_type": "markdown",
   "metadata": {},
   "source": [
    "❓ LATIHAN! <br>\n",
    "Total jumlah item (`quantity`) yang terjual untuk per-`sub_category` "
   ]
  },
  {
   "cell_type": "code",
   "execution_count": null,
   "metadata": {},
   "outputs": [],
   "source": [
    "# code here\n"
   ]
  },
  {
   "cell_type": "markdown",
   "metadata": {},
   "source": [
    "📈 **Insight:**\n",
    "\n",
    "- "
   ]
  },
  {
   "cell_type": "markdown",
   "metadata": {},
   "source": [
    "___\n",
    "\n",
    "### `pd.pivot_table`\n",
    "\n",
    "Cara kerja `pivot_table` tidak jauh berbeda dengan `crosstab()`. Parameter di kedua method inipun hampir sama. Yang membedakan di antara keduanya adalah adanya parameter `data` yang menspesfikasikan dataframe yang akan di pakai pada `pivot table`. \n",
    "\n",
    "Syntax:\n",
    "\n",
    "```python\n",
    "pd.pivot_table(\n",
    "    data=...,\n",
    "    index=...,\n",
    "    columns=...,\n",
    "    values=...,\n",
    "    aggfunc=...\n",
    ")\n",
    "```\n",
    "\n",
    "OR\n",
    "\n",
    "```python\n",
    "df.pivot_table(\n",
    "    index=...,\n",
    "    columns=...,\n",
    "    values=...,\n",
    "    aggfunc=...\n",
    ")\n",
    "```\n",
    "\n",
    "Kita dapat menggunakan `pivot_table` dengan beberapa parameter sebagai berikut.\n",
    "- `data`: dataframe yang kita gunakan\n",
    "- `index`: kolom yang akan menjadi index row\n",
    "- `columns`: kolom yang akan menjadi index kolom (**optional**)\n",
    "- `values`: nilai yang digunakan untuk mengisi tabel\n",
    "- `aggfunc`: fungsi agregasi"
   ]
  },
  {
   "cell_type": "markdown",
   "metadata": {},
   "source": [
    "🔻 Kita coba tinjau kembali harga di setiap jenis barang dari nilai rata-ratanya"
   ]
  },
  {
   "cell_type": "code",
   "execution_count": null,
   "metadata": {},
   "outputs": [],
   "source": [
    "# code here\n"
   ]
  },
  {
   "cell_type": "markdown",
   "metadata": {},
   "source": [
    "🔻 Kita dapat menggunakan `pivot_table` sebagai method"
   ]
  },
  {
   "cell_type": "code",
   "execution_count": null,
   "metadata": {},
   "outputs": [],
   "source": [
    "# code here\n"
   ]
  },
  {
   "cell_type": "markdown",
   "metadata": {},
   "source": [
    "Misalkan kita ingin meninjau harga satuan termahal setiap barang (sub_category), coba bandingkan syntax berikut antara `pd.crosstab()` dan `.pivot_table()`."
   ]
  },
  {
   "cell_type": "code",
   "execution_count": null,
   "metadata": {},
   "outputs": [],
   "source": [
    "# Pivot Table\n",
    "household.pivot_table(index = 'sub_category',\n",
    "                      values = 'unit_price',\n",
    "                      aggfunc = 'max')"
   ]
  },
  {
   "cell_type": "code",
   "execution_count": null,
   "metadata": {},
   "outputs": [],
   "source": [
    "# Crosstab\n",
    "pd.crosstab(index = household['sub_category'] ,\n",
    "            columns = \"Harga Termahal\" ,\n",
    "            values = household['unit_price'] ,\n",
    "            aggfunc = 'mean' )"
   ]
  },
  {
   "cell_type": "markdown",
   "metadata": {},
   "source": [
    "❓ LATIHAN!"
   ]
  },
  {
   "cell_type": "markdown",
   "metadata": {},
   "source": [
    "Mas Irfan ingin belanja beras untuk makan beberapa hari kedepan. Namun, karena sedang akhir bulan, dia ingin mencari lokasi dimana terdapat beras yang paling murah. Kira-kira pada format market manakah beras memiliki harga paling murah?"
   ]
  },
  {
   "cell_type": "code",
   "execution_count": null,
   "metadata": {},
   "outputs": [],
   "source": [
    "# code here\n"
   ]
  },
  {
   "cell_type": "markdown",
   "metadata": {},
   "source": [
    "___"
   ]
  },
  {
   "cell_type": "markdown",
   "metadata": {},
   "source": [
    "📝 **Pandas Table Summary**\n",
    "<br>\n",
    "**1. Frequency Tables:**<br>\n",
    "- Kegunaan: Menghitung jumlah baris/frequency pada kolom category. Menghitung jumlah n pada data\n",
    "- Method: \n",
    "    1. `.value_counts()` \n",
    "        - hanya bisa digunakan untuk menghitung frekuensi pada satu kolom\n",
    "        - menghasilkan data berbentuk `series`\n",
    "    2. `pd.crosstab` \n",
    "        - bisa diterapkan untuk 2 kolom atau lebih\n",
    "        - parameter wajib yaitu `index=` dan `columns=`\n",
    "        - by default akan menghitung `count`nya/frekuensinya\n",
    "        - menghasilkan data berbentuk `dataFrame`.\n",
    "    3. `pd.pivot_table` \n",
    "        - untuk lebih dari 2 kolom\n",
    "        - harus menambahkan parameter aggfunc='count'\n",
    "        - jarang digunakan untuk menghitung frekuensi\n",
    "        - **Tidak** punya parameter `normalize`\n",
    "    \n",
    "**2. Aggregation Tables:**\n",
    "- Kegunaan: Untuk mengaggregasi kolom numerik\n",
    "- Method:\n",
    "    1. `pd.crosstab()` \n",
    "        - default=`'count'`\n",
    "        - ada parameter normalize \n",
    "        - parameter aggfunc wajib diisi\n",
    "    2. `pd.pivot_table()`\n",
    "        - default=`'mean'`\n",
    "        - tidak ada parameter normalize\n",
    "        - parameter `index`/`columns` & `aggfunc` tidak wajib diisi"
   ]
  },
  {
   "cell_type": "markdown",
   "metadata": {},
   "source": [
    "Perbedaan mendasar antara `crosstab` and `pivot_table`:\n",
    "\n",
    "|                                                                                    | `pd.crosstab()` | `pd.pivot_table()` |\n",
    "|------------------------------------------------------------------------------------|-----------------|--------------------|\n",
    "|                                                                          **Input** | Array of values |          DataFrame |\n",
    "|                                                              **Default `aggfunc`** |       `'count'` |           `'mean'` |\n",
    "|                                                          **Parameter `normalize`** |       Available |      Not Available |\n",
    "| [**Computation Time**](https://ramiro.org/notebook/pandas-crosstab-groupby-pivot/) | Relatively Slower |  Relatively Faster |\n",
    "\n",
    "___"
   ]
  },
  {
   "cell_type": "markdown",
   "metadata": {},
   "source": [
    "### [**Optional**] Higher Dimensional Table\n",
    "Higher dimensional table bisa juga disebut sebagai multi-index dataframe (data yang memiliki lebih dari 1 index). Digunakan untuk melakukan proses tabulasi silang dalam resolusi tinggi (menggunakan beberapa faktor/variabel)"
   ]
  },
  {
   "cell_type": "code",
   "execution_count": null,
   "metadata": {},
   "outputs": [],
   "source": [
    "# Crosstab\n",
    "pd.crosstab(index=[household['yearmonth'], household['day']],\n",
    "\t\t\tcolumns=[household['sub_category'], household['format']],\n",
    "\t\t\tvalues=household['unit_price'],\n",
    "\t\t\taggfunc='mean')"
   ]
  },
  {
   "cell_type": "code",
   "execution_count": null,
   "metadata": {},
   "outputs": [],
   "source": [
    "# Pivot Table\n",
    "household.pivot_table(index=['yearmonth', 'day'],\n",
    "\t\t\t\t\t  columns=['sub_category', 'format'],\n",
    "\t\t\t\t\t  values='unit_price',\n",
    "\t\t\t\t\t  aggfunc='mean')"
   ]
  },
  {
   "cell_type": "markdown",
   "metadata": {},
   "source": [
    "## Dive Deeper: Tables\n",
    "\n",
    "1. Perusahaan ingin menganalisis penjualan total berdasarkan jumlah barang yang terjual dan unit price dari setiap barang. Simpan dalam kolom `total_sales` lalu dengan menggunakan hitung total penjualan yang terjadi di setiap hari nya. Hari apakah, penjualan cenderung memiliki pendapatan yang rendah?\n",
    "2. Anda diminta perusahaan untuk melakuakan analisis pada data `household` dan ambil sebuah insight melalui hasil analisis tersebut. Gunakan metode EDA apapun yang sudah kita pelajari untuk menjawab pertanyaan tersebut!"
   ]
  },
  {
   "cell_type": "markdown",
   "metadata": {},
   "source": [
    "<details>\n",
    "  <summary>👆 (Additional) Order by Day of Week 👆</summary>\n",
    "  \n",
    "```python\n",
    "household['day'] = household['day'].astype('category')\n",
    "household['day'] = household['day'].cat.reorder_categories(['Monday', 'Tuesday', 'Wednesday', 'Thursday', 'Friday', 'Saturday', 'Sunday'])\n",
    "```\n",
    "</details>"
   ]
  },
  {
   "cell_type": "code",
   "execution_count": null,
   "metadata": {},
   "outputs": [],
   "source": [
    "# Soal 1\n",
    "# Buat kolom total_sales\n",
    "\n",
    "\n",
    "# buat tabel agregasi\n"
   ]
  },
  {
   "cell_type": "markdown",
   "metadata": {},
   "source": [
    "💡 Business Question No 2 : _____"
   ]
  },
  {
   "cell_type": "code",
   "execution_count": null,
   "metadata": {},
   "outputs": [],
   "source": [
    "# Soal 2\n"
   ]
  },
  {
   "cell_type": "markdown",
   "metadata": {},
   "source": [
    "📈 Insight: "
   ]
  },
  {
   "cell_type": "markdown",
   "metadata": {},
   "source": [
    "___\n",
    "\n",
    "# Missing Values and Duplicates\n",
    "\n",
    "Dalam melakukan pengolahan data, tidak semua data yang kita miliki adalah data yang \"tidy\". Ada kemungkinan bahwa data kita memiliki nilai kosong (NULL), memiliki nilai yang berulang, dan memiliki nilai yang tidak sesuai dengan nilai variable yang seharusnya (misal usia memiliki nilai minus). Untuk mengatasi hal tersebut, kita dapat melakukan beberapa metode penanganan pada data yang hilang (missing value) atau data yang duplikat (duplicates value)"
   ]
  },
  {
   "cell_type": "markdown",
   "metadata": {},
   "source": [
    "### Missing Values\n",
    "Saat membaca data, jika kolom tidak benar-benar kosong, tapi diisi dengan nilai tertentu yang sebenarnya tidak bermakna (contoh: \"Missing\", \" \", \"-\") dapat dituliskan pada parameter `na_values()` untuk mendefinisikannya:\n",
    "\n",
    "```python\n",
    "data = pd.read_csv('data.csv', na_values = [\"Missing\", \" \", \"-\"])\n",
    "```"
   ]
  },
  {
   "cell_type": "code",
   "execution_count": null,
   "metadata": {},
   "outputs": [],
   "source": [
    "# read data\n",
    "household_missing = pd.read_csv('data_input/household-missing.csv', index_col=0, parse_dates=['purchase_time'], na_values = [\"Missing\", \" \", \"-\"])\n",
    "household_missing"
   ]
  },
  {
   "cell_type": "markdown",
   "metadata": {},
   "source": [
    "**✏️ Values**:\n",
    "\n",
    "- `NaN`: Not a Number, for object, category, and numeric\n",
    "- `NaT`: Not a Time, for datetime64[ns]"
   ]
  },
  {
   "cell_type": "markdown",
   "metadata": {},
   "source": [
    "### Check Missing Value\n",
    "Untuk melakukan pengecekan terhadap ada atau tidaknya missing value pada data, metode yang paling umum digunakan adalah:\n",
    "\n",
    "- `.notna()` : mengembalikan `True` apabila **tidak** missing\n",
    "- `.isna()` : mengembalikan `True` apabila **missing**"
   ]
  },
  {
   "cell_type": "code",
   "execution_count": null,
   "metadata": {},
   "outputs": [],
   "source": [
    "# isna()\n"
   ]
  },
  {
   "cell_type": "markdown",
   "metadata": {},
   "source": [
    "Menghitung jumlah missing value pada setiap kolom:\n",
    "\n",
    "- `True` akan dihitung sebagai 1\n",
    "- `False` akan dihitung sebagai 0"
   ]
  },
  {
   "cell_type": "code",
   "execution_count": null,
   "metadata": {},
   "outputs": [],
   "source": [
    "# jumlah missing value tiap kolom\n"
   ]
  },
  {
   "cell_type": "markdown",
   "metadata": {},
   "source": [
    "Selain menggunakan `isna()`, kita juga dapat menggunakan fungsi `notna()`"
   ]
  },
  {
   "cell_type": "code",
   "execution_count": null,
   "metadata": {},
   "outputs": [],
   "source": [
    "# notna()\n"
   ]
  },
  {
   "cell_type": "markdown",
   "metadata": {},
   "source": [
    "### Treatment Missing Values\n",
    "\n",
    "Beberapa cara umum untuk menangani missing values:\n",
    "\n",
    "1. Hapus baris atau kolom: Menggunakan metode `dropna()`\n",
    "2. Replace NA dengan nilai `mean`, `median`, dll\n",
    "3. Tetap mempertahankan data kita"
   ]
  },
  {
   "cell_type": "markdown",
   "metadata": {},
   "source": [
    "#### Hapus Baris yang NA\n",
    "\n",
    "- `.dropna(how='any')`: hapus baris apabila memiliki **minimal 1 kolom** nilai missing value\n",
    "\n",
    "- `.dropna(how='all')`: harus baris apabila memiliki **semua kolom** nilai missing\n",
    "\n",
    "- `.dropna(subset='<nama_kolom>')`: hapus baris apabila `\"nama_kolom\"` memiliki nilai missing"
   ]
  },
  {
   "cell_type": "code",
   "execution_count": null,
   "metadata": {},
   "outputs": [],
   "source": [
    "# dropna()\n"
   ]
  },
  {
   "cell_type": "code",
   "execution_count": null,
   "metadata": {},
   "outputs": [],
   "source": [
    "# how='any'\n"
   ]
  },
  {
   "cell_type": "code",
   "execution_count": null,
   "metadata": {},
   "outputs": [],
   "source": [
    "# how='all'\n"
   ]
  },
  {
   "cell_type": "code",
   "execution_count": null,
   "metadata": {},
   "outputs": [],
   "source": [
    "# subset\n"
   ]
  },
  {
   "cell_type": "markdown",
   "metadata": {},
   "source": [
    "#### Imputasi\n",
    "\n",
    "Kita akan melakukan imputasi terhadap data yang mengandung missing value, menggunakan metode `.fillna()`\n",
    "\n",
    "💡 **Tips** untuk imputasi:\n",
    "\n",
    "Untuk kolom categorical:\n",
    "\n",
    "- Menggunakan `NA` sebagai salah satu dari kategori\n",
    "- Isi menggunakan nilai terbanyak yg muncul (mode)\n",
    "\n",
    "\n",
    "Untuk kolom numerical:\n",
    "\n",
    "- Isi menggunakan nilai tengah seperti `mean` atau `median`\n",
    "- Isi dengan nilai 0"
   ]
  },
  {
   "cell_type": "code",
   "execution_count": null,
   "metadata": {},
   "outputs": [],
   "source": [
    "household_missing.head()"
   ]
  },
  {
   "cell_type": "markdown",
   "metadata": {},
   "source": [
    "🔻 Kita akan mengimputasi missing value pada kolom `format` dengan `\"Missing\"`"
   ]
  },
  {
   "cell_type": "code",
   "execution_count": 1,
   "metadata": {},
   "outputs": [],
   "source": [
    "# replace missing value pada kolom 'format' dengan `missing`\n"
   ]
  },
  {
   "cell_type": "markdown",
   "metadata": {},
   "source": [
    "🔻 Selanjutnya, kita akan mengimputasi missing value pada kolom `unit_price` dengan nilai rata-ratanya"
   ]
  },
  {
   "cell_type": "code",
   "execution_count": null,
   "metadata": {},
   "outputs": [],
   "source": [
    "# hitung mean dari 'unit_price'\n"
   ]
  },
  {
   "cell_type": "code",
   "execution_count": null,
   "metadata": {},
   "outputs": [],
   "source": [
    "# replace missing value pada kolom 'unit_price' dengan mean\n"
   ]
  },
  {
   "cell_type": "markdown",
   "metadata": {},
   "source": [
    "❓ LATIHAN! <br>\n",
    "Coba replace missing value pada tiap kolom dengan metode imputasi yang sesuai"
   ]
  },
  {
   "cell_type": "markdown",
   "metadata": {},
   "source": [
    "- `category`: \n",
    "- `discount`: \n",
    "- `quantity`: "
   ]
  },
  {
   "cell_type": "code",
   "execution_count": null,
   "metadata": {},
   "outputs": [],
   "source": [
    "# replace missing value pada kolom 'category'\n"
   ]
  },
  {
   "cell_type": "code",
   "execution_count": null,
   "metadata": {},
   "outputs": [],
   "source": [
    "# replace missing value pada kolom 'discount'\n"
   ]
  },
  {
   "cell_type": "code",
   "execution_count": null,
   "metadata": {},
   "outputs": [],
   "source": [
    "# replace missing value pada kolom 'quantity'\n"
   ]
  },
  {
   "cell_type": "markdown",
   "metadata": {},
   "source": [
    "Untuk mengisi nilai missing pada kolom bertipe datetime, salah satu metode imputasi yang dapat digunakan adalah dengan menggunakan method `.ffill()` atau `.bfill()`\n",
    "\n",
    "- Menggunakan metode `.bfill()` : melakukan imputasi dari bawah ke atas\n",
    "- Menggunakan metode `.ffill()` : melakukan imputasi dari atas ke bawah"
   ]
  },
  {
   "cell_type": "code",
   "execution_count": null,
   "metadata": {},
   "outputs": [],
   "source": [
    "# replace missing value pada kolom 'purchase_time'\n"
   ]
  },
  {
   "cell_type": "code",
   "execution_count": null,
   "metadata": {},
   "outputs": [],
   "source": [
    "# replace missing value pada kolom 'weekday'\n"
   ]
  },
  {
   "cell_type": "code",
   "execution_count": null,
   "metadata": {},
   "outputs": [],
   "source": [
    "# check missing value\n"
   ]
  },
  {
   "cell_type": "markdown",
   "metadata": {},
   "source": [
    "___\n",
    "\n",
    "\n",
    "## Duplicated Values\n",
    "### Check duplicated values\n",
    "Untuk melakukan pengecekan terhadap ada atau tidaknya data yang duplikat, kita dapat menggunakan method `duplicated()`."
   ]
  },
  {
   "cell_type": "code",
   "execution_count": null,
   "metadata": {},
   "outputs": [],
   "source": [
    "# code here\n"
   ]
  },
  {
   "cell_type": "code",
   "execution_count": null,
   "metadata": {},
   "outputs": [],
   "source": [
    "# check total duplikat data\n"
   ]
  },
  {
   "cell_type": "markdown",
   "metadata": {},
   "source": [
    "📝 **Notes**:<br>\n",
    "Untuk melakukan check duplicated values pada kolom tertentu saja, kita dapat menambahkan nama kolom pada parameter `subset`\n"
   ]
  },
  {
   "cell_type": "code",
   "execution_count": null,
   "metadata": {},
   "outputs": [],
   "source": [
    "# code here\n"
   ]
  },
  {
   "cell_type": "markdown",
   "metadata": {},
   "source": [
    "## Handling Duplicate Data\n",
    "Untuk menangani data yang duplicate, kita bisa menggunakan method `drop_duplicate()`. Cara ini membuat observasi yang duplicated terhapus dan kita bisa mengatur observasi mana yang akan tetap disimpan. \n",
    "\n",
    "**Case:**\n",
    "\n",
    "Cek dimensi dari data `household_missing`. Hapus baris yang duplicated. Cek kembali dimensi data `household_missing`untuk memastikan data yang duplicate sudah terhapus."
   ]
  },
  {
   "cell_type": "markdown",
   "metadata": {},
   "source": [
    "**NOTE:** Terdapat 2 macam cara untuk melakukan penghapusan pada nilai duplicate.\n",
    "\n",
    "1. Dengan menambahkan parameter `keep='first'`, maka akan mempertahankan baris teratas dari nilai yang duplicate. (**Default**)\n",
    "2. Dengan menambahkan parameter `keep='last'`, maka akan mempertahankan baris terbawah dari nilai yang duplicate."
   ]
  },
  {
   "cell_type": "code",
   "execution_count": null,
   "metadata": {},
   "outputs": [],
   "source": [
    "# drop_duplicates()\n"
   ]
  },
  {
   "cell_type": "code",
   "execution_count": null,
   "metadata": {},
   "outputs": [],
   "source": [
    "# keep = 'last'\n"
   ]
  },
  {
   "cell_type": "markdown",
   "metadata": {},
   "source": [
    "### Knowledge Check: Duplicate Data\n",
    "\n",
    "❓**Q: Apakah kita harus drop data duplikat atau tidak?**"
   ]
  },
  {
   "cell_type": "markdown",
   "metadata": {},
   "source": [
    "1. Sebuah pusat medis mengumpulkan data pemantauan detak jantung dari beberapa pasien anonim. Pengamatan ini diambil dalam kurun waktu 3 bulan:"
   ]
  },
  {
   "cell_type": "code",
   "execution_count": null,
   "metadata": {},
   "outputs": [],
   "source": [
    "monitoring = pd.DataFrame({\n",
    "    'age': [40, 42, 62, 49, 57, 62],\n",
    "    'heart_rate': [100, 120, 90, 100, 98, 90]\n",
    "})\n",
    "monitoring"
   ]
  },
  {
   "cell_type": "code",
   "execution_count": null,
   "metadata": {},
   "outputs": [],
   "source": [
    "monitoring.duplicated()"
   ]
  },
  {
   "cell_type": "markdown",
   "metadata": {},
   "source": [
    "2. Perusahaan asuransi menggunakan machine learning untuk memberikan harga dinamis kepada pelanggannya. Setiap baris berisi nama pelanggan, pekerjaan/profesi, dan data riwayat kesehatan. Data ini diambil dalam kurun waktu 3 bulan"
   ]
  },
  {
   "cell_type": "code",
   "execution_count": null,
   "metadata": {},
   "outputs": [],
   "source": [
    "insurance = pd.DataFrame({\n",
    "    'cust_id': ['C1', 'C2', 'C3', 'C4', 'C1'],\n",
    "    'occupation': ['Employee', 'Employee', 'Student', 'Student', 'Employee'],\n",
    "    'health': ['Good', 'Ok', 'Good', 'Ok', 'Bad']\n",
    "})\n",
    "insurance"
   ]
  },
  {
   "cell_type": "code",
   "execution_count": null,
   "metadata": {},
   "outputs": [],
   "source": [
    "insurance.duplicated(subset = 'cust_id')"
   ]
  },
  {
   "cell_type": "markdown",
   "metadata": {},
   "source": [
    "___"
   ]
  },
  {
   "cell_type": "markdown",
   "metadata": {},
   "source": [
    "# Workflow Data Analysis \n",
    "\n",
    "1. Define Business Question\n",
    "    - mendefinisikan masalah bisnis\n",
    "    - latar belakang\n",
    "2. Data Preparation\n",
    "    - import data\n",
    "    - cek struktur data\n",
    "3. Data Preprocessing\n",
    "    - convert data types\n",
    "    - handling missing values/duplicate data\n",
    "4. Data Analysis\n",
    "    - feature engineering\n",
    "    - frequency table & aggregate\n",
    "5. Conclusion\n",
    "    - menarik insight dari hasil analisis\n",
    "    - memberikan saran berdasarkan insight"
   ]
  },
  {
   "cell_type": "markdown",
   "metadata": {},
   "source": [
    "# Inclass Questions"
   ]
  },
  {
   "cell_type": "markdown",
   "metadata": {},
   "source": []
  },
  {
   "cell_type": "code",
   "execution_count": null,
   "metadata": {},
   "outputs": [],
   "source": []
  }
 ],
 "metadata": {
  "kernelspec": {
   "display_name": "vulcan_da",
   "language": "python",
   "name": "python3"
  },
  "language_info": {
   "codemirror_mode": {
    "name": "ipython",
    "version": 3
   },
   "file_extension": ".py",
   "mimetype": "text/x-python",
   "name": "python",
   "nbconvert_exporter": "python",
   "pygments_lexer": "ipython3",
   "version": "3.12.7"
  },
  "toc": {
   "base_numbering": 1,
   "nav_menu": {},
   "number_sections": true,
   "sideBar": true,
   "skip_h1_title": false,
   "title_cell": "Table of Contents",
   "title_sidebar": "Contents",
   "toc_cell": false,
   "toc_position": {},
   "toc_section_display": true,
   "toc_window_display": false
  },
  "varInspector": {
   "cols": {
    "lenName": 16,
    "lenType": 16,
    "lenVar": 40
   },
   "kernels_config": {
    "python": {
     "delete_cmd_postfix": "",
     "delete_cmd_prefix": "del ",
     "library": "var_list.py",
     "varRefreshCmd": "print(var_dic_list())"
    },
    "r": {
     "delete_cmd_postfix": ") ",
     "delete_cmd_prefix": "rm(",
     "library": "var_list.r",
     "varRefreshCmd": "cat(var_dic_list()) "
    }
   },
   "types_to_exclude": [
    "module",
    "function",
    "builtin_function_or_method",
    "instance",
    "_Feature"
   ],
   "window_display": false
  }
 },
 "nbformat": 4,
 "nbformat_minor": 4
}
